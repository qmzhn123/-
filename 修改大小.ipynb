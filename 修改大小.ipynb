{
 "cells": [
  {
   "cell_type": "code",
   "execution_count": 1,
   "id": "f6cfaf7a",
   "metadata": {},
   "outputs": [],
   "source": [
    "import os\n",
    "from PIL import Image\n",
    "import xml.etree.ElementTree as ET"
   ]
  },
  {
   "cell_type": "code",
   "execution_count": 2,
   "id": "c9f644ac",
   "metadata": {},
   "outputs": [],
   "source": [
    "# 图像文件夹路径\n",
    "image_folder = 'F:/xun/val'\n",
    "# 标注文件夹路径\n",
    "annotation_folder = 'F:/xun/val1'\n",
    "# 保存调整后图像的文件夹路径\n",
    "output_folder = 'F:/xun/tx'\n",
    "\n",
    "# 获取图像文件夹中的所有图像文件名\n",
    "image_files = os.listdir(image_folder)\n",
    "\n",
    "# 循环处理每张图像\n",
    "for image_file in image_files:\n",
    "    # 构建图像和标注文件的完整路径\n",
    "    image_path = os.path.join(image_folder, image_file)\n",
    "    annotation_file = os.path.splitext(image_file)[0] + '.xml'\n",
    "    annotation_path = os.path.join(annotation_folder, annotation_file)\n",
    "    \n",
    "    # 打开标注文件\n",
    "    tree = ET.parse(annotation_path)\n",
    "    root = tree.getroot()\n",
    "    \n",
    "    # 获取目标图像尺寸信息\n",
    "    width = int(root.find('size/width').text)\n",
    "    height = int(root.find('size/height').text)\n",
    "    \n",
    "    # 打开图像文件\n",
    "    image = Image.open(image_path)\n",
    "    \n",
    "    # 调整图像大小为目标尺寸\n",
    "    resized_image = image.resize((width, height), Image.ANTIALIAS)\n",
    "    \n",
    "    # 构建保存调整后图像的路径\n",
    "    output_path = os.path.join(output_folder, image_file)\n",
    "    \n",
    "    # 保存调整后的图像\n",
    "    resized_image.save(output_path)"
   ]
  },
  {
   "cell_type": "code",
   "execution_count": null,
   "id": "de2ff7bb",
   "metadata": {},
   "outputs": [],
   "source": []
  }
 ],
 "metadata": {
  "kernelspec": {
   "display_name": "Python 3 (ipykernel)",
   "language": "python",
   "name": "python3"
  },
  "language_info": {
   "codemirror_mode": {
    "name": "ipython",
    "version": 3
   },
   "file_extension": ".py",
   "mimetype": "text/x-python",
   "name": "python",
   "nbconvert_exporter": "python",
   "pygments_lexer": "ipython3",
   "version": "3.9.7"
  }
 },
 "nbformat": 4,
 "nbformat_minor": 5
}
