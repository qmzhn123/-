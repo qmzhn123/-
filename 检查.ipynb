{
 "cells": [
  {
   "cell_type": "code",
   "execution_count": 4,
   "id": "f9147776",
   "metadata": {},
   "outputs": [
    {
     "name": "stdout",
     "output_type": "stream",
     "text": [
      "已完成删除操作\n"
     ]
    }
   ],
   "source": [
    "import os\n",
    "import imghdr\n",
    "from progressbar import ProgressBar\n",
    "\n",
    "\"\"\"\n",
    "    imghdr what 类型判断,去除损坏文件\n",
    "\"\"\"\n",
    "\n",
    "path = '/home/lab/images'\n",
    "original_images = []\n",
    "for root, dirs, filenames in os.walk(path):\n",
    "    for filename in filenames:\n",
    "        original_images.append(os.path.join(root, filename))\n",
    "original_images = sorted(original_images)\n",
    "print('totalNum:', len(original_images))\n",
    "f = open('/home/lab/check_error.txt', 'wb')\n",
    "error_images = []\n",
    "progress = ProgressBar()\n",
    "for filename in progress(original_images):\n",
    "    check = imghdr.what(filename)\n",
    "    if check == None:\n",
    "        f.write(filename)\n",
    "        f.write('\\n')\n",
    "        os.remove(filename)\n",
    "        error_images.append(filename)\n",
    "print('errorFileNum:',len(error_images))\n",
    "f.close()"
   ]
  },
  {
   "cell_type": "code",
   "execution_count": null,
   "id": "f89f96c1",
   "metadata": {},
   "outputs": [],
   "source": [
    "import os\n",
    "\n",
    "# 数据集所在的文件夹路径\n",
    "data_dir = 'D:/PaddleDetection/dataset/my_data'\n",
    "\n",
    "# 遍历 Annotations 文件夹\n",
    "for root, dirs, files in os.walk(os.path.join(data_dir, 'Annotations')):\n",
    "    for file in files:\n",
    "        if file.endswith('.xml'):\n",
    "            xml_path = os.path.join(root, file)\n",
    "            img_path = os.path.splitext(xml_path.replace('Annotations', 'JPEGImages'))[0] + '.jpg'\n",
    "\n",
    "            # 检查 JPEG 文件是否存在\n",
    "            if not os.path.exists(img_path):\n",
    "                # 如果该 XML 文件对应的 JPEG 文件不存在，则删除该 XML 文件\n",
    "                os.remove(xml_path)\n",
    "                print(f'Removed {xml_path}')\n",
    "\n",
    "print('已完成删除操作')\n"
   ]
  }
 ],
 "metadata": {
  "kernelspec": {
   "display_name": "Python 3 (ipykernel)",
   "language": "python",
   "name": "python3"
  },
  "language_info": {
   "codemirror_mode": {
    "name": "ipython",
    "version": 3
   },
   "file_extension": ".py",
   "mimetype": "text/x-python",
   "name": "python",
   "nbconvert_exporter": "python",
   "pygments_lexer": "ipython3",
   "version": "3.9.7"
  }
 },
 "nbformat": 4,
 "nbformat_minor": 5
}
